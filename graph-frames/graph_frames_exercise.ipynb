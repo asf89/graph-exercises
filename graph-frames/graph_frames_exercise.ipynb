{
 "cells": [
  {
   "cell_type": "markdown",
   "metadata": {},
   "source": [
    "## Lista de Exercícios 5 - Respostas"
   ]
  },
  {
   "cell_type": "code",
   "execution_count": 1,
   "metadata": {},
   "outputs": [],
   "source": [
    "from pyspark import SparkConf\n",
    "from pyspark.context import SparkContext\n",
    "from pyspark.sql.session import SparkSession\n",
    "from graphframes import *"
   ]
  },
  {
   "cell_type": "code",
   "execution_count": 2,
   "metadata": {},
   "outputs": [],
   "source": [
    "conf = SparkConf().setAppName('appName').setMaster('local')\n",
    "sc = SparkContext.getOrCreate(conf)\n",
    "spark = SparkSession(sc)"
   ]
  },
  {
   "cell_type": "markdown",
   "metadata": {},
   "source": [
    "### a. Crie um CSV para armazenar as cidades e outro para armazenar as distâncias entre essas cidades\n",
    "### b. Utilizando as bibliotecas do Spark, crie um objeto GraphFrame a partir desses dois CVs"
   ]
  },
  {
   "cell_type": "code",
   "execution_count": 5,
   "metadata": {},
   "outputs": [],
   "source": [
    "v = spark.read.csv('transport-nodes.csv', header=True)\n",
    "e = spark.read.csv('transport-relationships.csv', header=True)\n",
    "g = GraphFrame(v, e)"
   ]
  },
  {
   "cell_type": "markdown",
   "metadata": {},
   "source": [
    "### **c. Utilizando o método 'bfs' (_Breadth First Search_), execute 5 filtragens a sua escolha**"
   ]
  },
  {
   "cell_type": "code",
   "execution_count": 9,
   "metadata": {},
   "outputs": [
    {
     "name": "stdout",
     "output_type": "stream",
     "text": [
      "+--------------------+--------------------+--------------------+\n",
      "|                from|                  e0|                  to|\n",
      "+--------------------+--------------------+--------------------+\n",
      "|[Araripina, 52.37...|[Araripina, Igara...|[Igarassu, 52.078...|\n",
      "+--------------------+--------------------+--------------------+\n",
      "\n"
     ]
    }
   ],
   "source": [
    "araripinaPath = g.bfs(\"id = 'Araripina'\", \"id = 'Igarassu'\")\n",
    "araripinaPath.show()"
   ]
  },
  {
   "cell_type": "code",
   "execution_count": 15,
   "metadata": {},
   "outputs": [
    {
     "name": "stdout",
     "output_type": "stream",
     "text": [
      "+--------------------+--------------------+--------------------+--------------------+--------------------+--------------------+--------------------+\n",
      "|                from|                  e0|                  v1|                  e1|                  v2|                  e2|                  to|\n",
      "+--------------------+--------------------+--------------------+--------------------+--------------------+--------------------+--------------------+\n",
      "|[Araripina, 52.37...|[Araripina, Insta...|[Instancia, 53.61...|[Instancia, Carpi...|[Carpina, 53.5228...|[Carpina, Petroli...|[Petrolina, 51.50...|\n",
      "+--------------------+--------------------+--------------------+--------------------+--------------------+--------------------+--------------------+\n",
      "\n"
     ]
    }
   ],
   "source": [
    "g.bfs(\"id = 'Araripina'\", \"id = 'Petrolina'\", edgeFilter=\"relationship = 'EROAD'\").show()\n"
   ]
  },
  {
   "cell_type": "code",
   "execution_count": 18,
   "metadata": {},
   "outputs": [
    {
     "name": "stdout",
     "output_type": "stream",
     "text": [
      "+--------------------+--------------------+--------------------+\n",
      "|                from|                  e0|                  to|\n",
      "+--------------------+--------------------+--------------------+\n",
      "|[Igarassu, 52.078...|[Igarassu, Salgue...|[Salgueiro, 51.92...|\n",
      "+--------------------+--------------------+--------------------+\n",
      "\n"
     ]
    }
   ],
   "source": [
    "g.bfs(\"id = 'Igarassu'\", \"id = 'Salgueiro'\").show()"
   ]
  },
  {
   "cell_type": "code",
   "execution_count": 19,
   "metadata": {},
   "outputs": [
    {
     "name": "stdout",
     "output_type": "stream",
     "text": [
      "+--------------------+--------------------+--------------------+--------------------+--------------------+\n",
      "|                from|                  e0|                  v1|                  e1|                  to|\n",
      "+--------------------+--------------------+--------------------+--------------------+--------------------+\n",
      "|[Carpina, 53.5228...|[Carpina, Petroli...|[Petrolina, 51.50...|[Petrolina, Surub...|[Surubim, 51.8892...|\n",
      "+--------------------+--------------------+--------------------+--------------------+--------------------+\n",
      "\n"
     ]
    }
   ],
   "source": [
    "g.bfs(\"id ='Carpina'\", \"id = 'Surubim'\").show()"
   ]
  },
  {
   "cell_type": "code",
   "execution_count": 28,
   "metadata": {},
   "outputs": [
    {
     "name": "stdout",
     "output_type": "stream",
     "text": [
      "+--------------------+--------------------+--------------------+--------------------+--------------------+--------------------+--------------------+--------------------+--------------------+\n",
      "|                from|                  e0|                  v1|                  e1|                  v2|                  e2|                  v3|                  e3|                  to|\n",
      "+--------------------+--------------------+--------------------+--------------------+--------------------+--------------------+--------------------+--------------------+--------------------+\n",
      "|[Araripina, 52.37...|[Araripina, Insta...|[Instancia, 53.61...|[Instancia, Carpi...|[Carpina, 53.5228...|[Carpina, Petroli...|[Petrolina, 51.50...|[Petrolina, Surub...|[Surubim, 51.8892...|\n",
      "+--------------------+--------------------+--------------------+--------------------+--------------------+--------------------+--------------------+--------------------+--------------------+\n",
      "\n"
     ]
    }
   ],
   "source": [
    "g.bfs(\"id = 'Araripina'\", \"id = 'Surubim'\", maxPathLength=5).show()"
   ]
  },
  {
   "cell_type": "markdown",
   "metadata": {},
   "source": [
    "### **d. Execute 2 consultas usando o método 'find'**"
   ]
  },
  {
   "cell_type": "code",
   "execution_count": 37,
   "metadata": {},
   "outputs": [
    {
     "name": "stdout",
     "output_type": "stream",
     "text": [
      "+--------------------+--------------------+--------------------+--------------------+--------------------+\n",
      "|                   a|                  ab|                   b|                  bc|                   c|\n",
      "+--------------------+--------------------+--------------------+--------------------+--------------------+\n",
      "|[Araripina, 52.37...|[Araripina, Igara...|[Igarassu, 52.078...|[Igarassu, Exu, E...|[Exu, 52.01667, 4...|\n",
      "|[Araripina, 52.37...|[Araripina, Igara...|[Igarassu, 52.078...|[Igarassu, Salgue...|[Salgueiro, 51.92...|\n",
      "|[Araripina, 52.37...|[Araripina, Insta...|[Instancia, 53.61...|[Instancia, Carpi...|[Carpina, 53.5228...|\n",
      "|[Instancia, 53.61...|[Instancia, Carpi...|[Carpina, 53.5228...|[Carpina, Petroli...|[Petrolina, 51.50...|\n",
      "|[Carpina, 53.5228...|[Carpina, Petroli...|[Petrolina, 51.50...|[Petrolina, Surub...|[Surubim, 51.8892...|\n",
      "|[Serra Talhada, 5...|[Serra Talhada, I...|[Igarassu, 52.078...|[Igarassu, Exu, E...|[Exu, 52.01667, 4...|\n",
      "|[Serra Talhada, 5...|[Serra Talhada, I...|[Igarassu, 52.078...|[Igarassu, Salgue...|[Salgueiro, 51.92...|\n",
      "|[Arco Verde, 51.9...|[Arco Verde, Serr...|[Serra Talhada, 5...|[Serra Talhada, S...|[Salgueiro, 51.92...|\n",
      "|[Arco Verde, 51.9...|[Arco Verde, Serr...|[Serra Talhada, 5...|[Serra Talhada, I...|[Igarassu, 52.078...|\n",
      "|[Ouricuri, 52.059...|[Ouricuri, Arco V...|[Arco Verde, 51.9...|[Arco Verde, Serr...|[Serra Talhada, 5...|\n",
      "|[Surubim, 51.8892...|[Surubim, Ouricur...|[Ouricuri, 52.059...|[Ouricuri, Arco V...|[Arco Verde, 51.9...|\n",
      "|[Petrolina, 51.50...|[Petrolina, Surub...|[Surubim, 51.8892...|[Surubim, Ouricur...|[Ouricuri, 52.059...|\n",
      "|[Igarassu, 52.078...|[Igarassu, Exu, E...|[Exu, 52.01667, 4...|[Exu, Caruaru, ER...|[Caruaru, 52.0928...|\n",
      "|[Igarassu, 52.078...|[Igarassu, Exu, E...|[Exu, 52.01667, 4...|[Exu, Salgueiro, ...|[Salgueiro, 51.92...|\n",
      "+--------------------+--------------------+--------------------+--------------------+--------------------+\n",
      "\n"
     ]
    }
   ],
   "source": [
    "g.find(\"(a) - [ab] -> (b); (b) - [bc] -> (c)\").show()"
   ]
  },
  {
   "cell_type": "code",
   "execution_count": 38,
   "metadata": {},
   "outputs": [
    {
     "name": "stdout",
     "output_type": "stream",
     "text": [
      "+--------------------+--------------------+--------------------+\n",
      "|                   a|                 abc|                   c|\n",
      "+--------------------+--------------------+--------------------+\n",
      "|[Araripina, 52.37...|[Araripina, Carua...|[Caruaru, 52.0928...|\n",
      "|[Araripina, 52.37...|[Araripina, Igara...|[Igarassu, 52.078...|\n",
      "|[Igarassu, 52.078...|[Igarassu, Salgue...|[Salgueiro, 51.92...|\n",
      "|[Araripina, 52.37...|[Araripina, Insta...|[Instancia, 53.61...|\n",
      "|[Instancia, 53.61...|[Instancia, Carpi...|[Carpina, 53.5228...|\n",
      "|[Carpina, 53.5228...|[Carpina, Petroli...|[Petrolina, 51.50...|\n",
      "|[Serra Talhada, 5...|[Serra Talhada, I...|[Igarassu, 52.078...|\n",
      "|[Arco Verde, 51.9...|[Arco Verde, Serr...|[Serra Talhada, 5...|\n",
      "|[Ouricuri, 52.059...|[Ouricuri, Arco V...|[Arco Verde, 51.9...|\n",
      "|[Surubim, 51.8892...|[Surubim, Ouricur...|[Ouricuri, 52.059...|\n",
      "|[Petrolina, 51.50...|[Petrolina, Surub...|[Surubim, 51.8892...|\n",
      "|[Exu, 52.01667, 4...|[Exu, Salgueiro, ...|[Salgueiro, 51.92...|\n",
      "|[Exu, 52.01667, 4...|[Exu, Caruaru, ER...|[Caruaru, 52.0928...|\n",
      "|[Igarassu, 52.078...|[Igarassu, Exu, E...|[Exu, 52.01667, 4...|\n",
      "|[Serra Talhada, 5...|[Serra Talhada, S...|[Salgueiro, 51.92...|\n",
      "+--------------------+--------------------+--------------------+\n",
      "\n"
     ]
    }
   ],
   "source": [
    "g.find(\"(a) - [abc] -> (c)\").show()"
   ]
  },
  {
   "cell_type": "markdown",
   "metadata": {},
   "source": [
    "### **e. Execute 2 consultas utilizando o método 'filterVertices'**"
   ]
  },
  {
   "cell_type": "code",
   "execution_count": 41,
   "metadata": {},
   "outputs": [
    {
     "name": "stdout",
     "output_type": "stream",
     "text": [
      "+-------------+--------+---------+----------+\n",
      "|           id|latitude|longitude|population|\n",
      "+-------------+--------+---------+----------+\n",
      "|    Instancia|53.61239| -0.22219|      9642|\n",
      "|Serra Talhada| 51.9775|  4.13333|      9382|\n",
      "|   Arco Verde|51.96375|   1.3511|     23689|\n",
      "|          Exu|52.01667|  4.70833|     70939|\n",
      "+-------------+--------+---------+----------+\n",
      "\n"
     ]
    }
   ],
   "source": [
    "g1 = g.filterVertices(\"population < 100000\")\n",
    "g1.vertices.show()"
   ]
  },
  {
   "cell_type": "code",
   "execution_count": 45,
   "metadata": {},
   "outputs": [
    {
     "name": "stdout",
     "output_type": "stream",
     "text": [
      "+-------------+--------+---------+----------+\n",
      "|           id|latitude|longitude|population|\n",
      "+-------------+--------+---------+----------+\n",
      "|    Instancia|53.61239| -0.22219|      9642|\n",
      "|Serra Talhada| 51.9775|  4.13333|      9382|\n",
      "|   Arco Verde|51.96375|   1.3511|     23689|\n",
      "|          Exu|52.01667|  4.70833|     70939|\n",
      "+-------------+--------+---------+----------+\n",
      "\n"
     ]
    }
   ],
   "source": [
    "g2 = g.filterEdges(\"cost > 200 and cost < 500\").filterVertices(\"population < 100000\")\n",
    "g2.vertices.show()"
   ]
  },
  {
   "cell_type": "code",
   "execution_count": 46,
   "metadata": {},
   "outputs": [
    {
     "name": "stdout",
     "output_type": "stream",
     "text": [
      "+----------+-------------+------------+----+\n",
      "|       src|          dst|relationship|cost|\n",
      "+----------+-------------+------------+----+\n",
      "|Arco Verde|Serra Talhada|       EROAD| 207|\n",
      "+----------+-------------+------------+----+\n",
      "\n"
     ]
    }
   ],
   "source": [
    "g2.edges.show()"
   ]
  },
  {
   "cell_type": "code",
   "execution_count": null,
   "metadata": {},
   "outputs": [],
   "source": []
  }
 ],
 "metadata": {
  "kernelspec": {
   "display_name": "Python 3",
   "language": "python",
   "name": "python3"
  },
  "language_info": {
   "codemirror_mode": {
    "name": "ipython",
    "version": 3
   },
   "file_extension": ".py",
   "mimetype": "text/x-python",
   "name": "python",
   "nbconvert_exporter": "python",
   "pygments_lexer": "ipython3",
   "version": "3.7.6"
  }
 },
 "nbformat": 4,
 "nbformat_minor": 4
}
