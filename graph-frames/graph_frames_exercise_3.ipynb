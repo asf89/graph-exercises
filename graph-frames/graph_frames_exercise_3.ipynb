{
 "cells": [
  {
   "cell_type": "markdown",
   "metadata": {},
   "source": [
    "# Graph Theory\n",
    "## Exercise List 7"
   ]
  },
  {
   "cell_type": "code",
   "execution_count": 47,
   "metadata": {},
   "outputs": [],
   "source": [
    "from pyspark import SparkConf\n",
    "from pyspark.context import SparkContext\n",
    "from pyspark.sql.session import SparkSession\n",
    "from graphframes import *"
   ]
  },
  {
   "cell_type": "code",
   "execution_count": 2,
   "metadata": {},
   "outputs": [],
   "source": [
    "conf = SparkConf().setAppName('appName').setMaster('local')\n",
    "sc = SparkContext.getOrCreate(conf)\n",
    "spark = SparkSession(sc)\n",
    "vertexes = spark.read.csv('pe_cities.csv', header=True)\n",
    "edges = spark.read.csv('pe_cities_distances.csv', header=True)\n",
    "graph = GraphFrame(vertexes, edges)"
   ]
  },
  {
   "cell_type": "code",
   "execution_count": 19,
   "metadata": {},
   "outputs": [
    {
     "name": "stdout",
     "output_type": "stream",
     "text": [
      "+--------------------+------+\n",
      "|                  id|degree|\n",
      "+--------------------+------+\n",
      "|Brejo da Madre de...|     7|\n",
      "|            Igarassu|     7|\n",
      "|           Araripina|     6|\n",
      "|                 Exu|     6|\n",
      "|         Tupanatinga|     6|\n",
      "|              Buíque|     6|\n",
      "|        João Alfredo|     6|\n",
      "|            Ouricuri|     6|\n",
      "|               Ipubi|     6|\n",
      "|              Bodocó|     4|\n",
      "+--------------------+------+\n",
      "\n"
     ]
    }
   ],
   "source": [
    "graph_degrees = graph.degrees\n",
    "graph_degrees.sort(\"degree\", ascending=False).show()"
   ]
  },
  {
   "cell_type": "markdown",
   "metadata": {},
   "source": [
    "- Calculate the number of triangles"
   ]
  },
  {
   "cell_type": "code",
   "execution_count": 11,
   "metadata": {},
   "outputs": [
    {
     "name": "stdout",
     "output_type": "stream",
     "text": [
      "+-----+--------------------+---------+----------+----------+\n",
      "|count|                  id| latitude| longitude|population|\n",
      "+-----+--------------------+---------+----------+----------+\n",
      "|   12|Brejo da Madre de...|-8.145833|-36.370833|     50752|\n",
      "|   12|            Igarassu|-7.834167|-34.906389|    117019|\n",
      "|   10|              Buíque|-8.623333|-37.156389|     58378|\n",
      "|   10|         Tupanatinga|-8.752778|    -37.34|     27304|\n",
      "|   10|               Ipubi|-7.651944|-40.148889|     30854|\n",
      "|    9|           Araripina|-7.575833|-40.497778|     84418|\n",
      "|    9|            Ouricuri|  -7.8825|-40.081667|     69459|\n",
      "|    9|                 Exu|-7.511944|-39.723889|     31825|\n",
      "|    8|        João Alfredo|-7.855833|-35.587778|     33822|\n",
      "|    4|              Bodocó|-7.778333|-39.941111|     38146|\n",
      "+-----+--------------------+---------+----------+----------+\n",
      "\n"
     ]
    }
   ],
   "source": [
    "result = graph.triangleCount()\n",
    "result.sort(\"count\", ascending=False).show()"
   ]
  },
  {
   "cell_type": "markdown",
   "metadata": {},
   "source": [
    "- Calculate the local clustering coefficient of the three highest degree vertexes"
   ]
  },
  {
   "cell_type": "code",
   "execution_count": 41,
   "metadata": {},
   "outputs": [
    {
     "name": "stdout",
     "output_type": "stream",
     "text": [
      "{'city_id': ['Igarassu', 'Brejo da Madre de Deus', 'Buíque'], 'localClusterCoefficient': [0.5714285714285714, 0.5714285714285714, 0.6666666666666666]}\n"
     ]
    }
   ],
   "source": [
    "triangles_ordered = result.sort(\"count\", ascending=False)\n",
    "degrees_ordered = graph_degrees.sort(\"degree\", ascending=False)\n",
    "triangles = triangles_ordered.select(\"id\", \"count\").collect()\n",
    "degrees = degrees_ordered.select(\"id\", \"degree\").collect()\n",
    "output = dict(city_id=list(), localClusterCoefficient=list())\n",
    "i = 0\n",
    "for triangle_value in triangles:\n",
    "    for degree_value in degrees:\n",
    "        if (triangle_value.id == degree_value.id):\n",
    "            lccf = (2 * triangle_value['count']) / (degree_value['degree'] * (degree_value['degree'] - 1))\n",
    "            output['localClusterCoefficient'].append(lccf)\n",
    "            output['city_id'].append(degree_value.id)\n",
    "            i += 1\n",
    "    if (i == 3):\n",
    "        break\n",
    "\n",
    "print(output)"
   ]
  },
  {
   "cell_type": "markdown",
   "metadata": {},
   "source": [
    "- Determine the strongly connected components and the connected components. How much do they differ?"
   ]
  },
  {
   "cell_type": "code",
   "execution_count": 42,
   "metadata": {},
   "outputs": [
    {
     "name": "stdout",
     "output_type": "stream",
     "text": [
      "+--------------------+---------+----------+----------+------------+\n",
      "|                  id| latitude| longitude|population|   component|\n",
      "+--------------------+---------+----------+----------+------------+\n",
      "|Brejo da Madre de...|-8.145833|-36.370833|     50752|154618822656|\n",
      "|              Bodocó|-7.778333|-39.941111|     38146|154618822656|\n",
      "|        João Alfredo|-7.855833|-35.587778|     33822|154618822656|\n",
      "|               Ipubi|-7.651944|-40.148889|     30854|154618822656|\n",
      "|           Araripina|-7.575833|-40.497778|     84418|154618822656|\n",
      "|            Igarassu|-7.834167|-34.906389|    117019|154618822656|\n",
      "|                 Exu|-7.511944|-39.723889|     31825|154618822656|\n",
      "|              Buíque|-8.623333|-37.156389|     58378|154618822656|\n",
      "|         Tupanatinga|-8.752778|    -37.34|     27304|154618822656|\n",
      "|            Ouricuri|  -7.8825|-40.081667|     69459|154618822656|\n",
      "+--------------------+---------+----------+----------+------------+\n",
      "\n"
     ]
    }
   ],
   "source": [
    "scc = graph.stronglyConnectedComponents(maxIter=10)\n",
    "scc.show()"
   ]
  },
  {
   "cell_type": "code",
   "execution_count": 50,
   "metadata": {},
   "outputs": [
    {
     "name": "stdout",
     "output_type": "stream",
     "text": [
      "+--------------------+---------+----------+----------+------------+\n",
      "|                  id| latitude| longitude|population|   component|\n",
      "+--------------------+---------+----------+----------+------------+\n",
      "|            Igarassu|-7.834167|-34.906389|    117019|154618822656|\n",
      "|           Araripina|-7.575833|-40.497778|     84418|154618822656|\n",
      "|            Ouricuri|  -7.8825|-40.081667|     69459|154618822656|\n",
      "|              Buíque|-8.623333|-37.156389|     58378|154618822656|\n",
      "|Brejo da Madre de...|-8.145833|-36.370833|     50752|154618822656|\n",
      "|              Bodocó|-7.778333|-39.941111|     38146|154618822656|\n",
      "|        João Alfredo|-7.855833|-35.587778|     33822|154618822656|\n",
      "|                 Exu|-7.511944|-39.723889|     31825|154618822656|\n",
      "|               Ipubi|-7.651944|-40.148889|     30854|154618822656|\n",
      "|         Tupanatinga|-8.752778|    -37.34|     27304|154618822656|\n",
      "+--------------------+---------+----------+----------+------------+\n",
      "\n"
     ]
    }
   ],
   "source": [
    "sc.setCheckpointDir('./checkpoints')\n",
    "ccp = graph.connectedComponents(checkpointInterval=2, broadcastThreshold=10000000)\n",
    "ccp.show()"
   ]
  },
  {
   "cell_type": "markdown",
   "metadata": {},
   "source": [
    "By the results above, there was no difference. "
   ]
  },
  {
   "cell_type": "markdown",
   "metadata": {},
   "source": [
    "- Determine the graph clusters by the execution of the label propagation algorithm"
   ]
  },
  {
   "cell_type": "code",
   "execution_count": 51,
   "metadata": {},
   "outputs": [
    {
     "name": "stdout",
     "output_type": "stream",
     "text": [
      "+--------------------+---------+----------+----------+------------+\n",
      "|                  id| latitude| longitude|population|       label|\n",
      "+--------------------+---------+----------+----------+------------+\n",
      "|Brejo da Madre de...|-8.145833|-36.370833|     50752|515396075520|\n",
      "|              Bodocó|-7.778333|-39.941111|     38146|515396075520|\n",
      "|        João Alfredo|-7.855833|-35.587778|     33822|515396075520|\n",
      "|               Ipubi|-7.651944|-40.148889|     30854|515396075520|\n",
      "|           Araripina|-7.575833|-40.497778|     84418|515396075520|\n",
      "|            Igarassu|-7.834167|-34.906389|    117019|515396075520|\n",
      "|                 Exu|-7.511944|-39.723889|     31825|515396075520|\n",
      "|              Buíque|-8.623333|-37.156389|     58378|515396075520|\n",
      "|         Tupanatinga|-8.752778|    -37.34|     27304|515396075520|\n",
      "|            Ouricuri|  -7.8825|-40.081667|     69459|515396075520|\n",
      "+--------------------+---------+----------+----------+------------+\n",
      "\n"
     ]
    }
   ],
   "source": [
    "lpa = graph.labelPropagation(maxIter=10)\n",
    "lpa.show()"
   ]
  },
  {
   "cell_type": "code",
   "execution_count": null,
   "metadata": {},
   "outputs": [],
   "source": []
  }
 ],
 "metadata": {
  "kernelspec": {
   "display_name": "Python 3",
   "language": "python",
   "name": "python3"
  },
  "language_info": {
   "codemirror_mode": {
    "name": "ipython",
    "version": 3
   },
   "file_extension": ".py",
   "mimetype": "text/x-python",
   "name": "python",
   "nbconvert_exporter": "python",
   "pygments_lexer": "ipython3",
   "version": "3.7.6"
  }
 },
 "nbformat": 4,
 "nbformat_minor": 4
}
