{
 "cells": [
  {
   "cell_type": "markdown",
   "metadata": {},
   "source": [
    "## Exercise List 6\n",
    "\n",
    "#### 1. Utilizing Apache Spark and other correlated tools, beyond the graph constructed in Exercise List 5, implement the following options:\n",
    "\n",
    "   - Determine the central node through the node degree.\n",
    "   - Determine the central node by centrality utilizing the Wasserman distance.\n",
    "   - Determine the central node by intermediation."
   ]
  },
  {
   "cell_type": "code",
   "execution_count": 2,
   "metadata": {},
   "outputs": [],
   "source": [
    "from pyspark import SparkConf\n",
    "from pyspark.context import SparkContext\n",
    "from pyspark.sql.session import SparkSession\n",
    "from graphframes import *"
   ]
  },
  {
   "cell_type": "code",
   "execution_count": 5,
   "metadata": {},
   "outputs": [],
   "source": [
    "conf = SparkConf().setAppName('appName').setMaster('local')\n",
    "sc = SparkContext.getOrCreate(conf)\n",
    "spark = SparkSession(sc)\n",
    "vertexes = spark.read.csv('transport-nodes.csv', header=True)\n",
    "edges = spark.read.csv('transport-relationships.csv', header=True)\n",
    "graph = GraphFrame(vertexes, edges)"
   ]
  },
  {
   "cell_type": "code",
   "execution_count": 50,
   "metadata": {},
   "outputs": [
    {
     "name": "stdout",
     "output_type": "stream",
     "text": [
      "The central node is Igarassu, with degree 4\n"
     ]
    }
   ],
   "source": [
    "# Determinig the central node through its degree\n",
    "graph_degree = graph.degrees\n",
    "city = dict(degree=0, city_id='')\n",
    "iter\n",
    "\n",
    "for row_value in graph_degree.select(\"id\", \"degree\").collect():\n",
    "    if row_value.degree > city.get('degree'):\n",
    "        city['degree'] = row_value.degree\n",
    "        city['city_id'] = row_value.id\n",
    "print(f\"The central node is {city.get('city_id')}, with degree {city.get('degree')}\")"
   ]
  },
  {
   "cell_type": "code",
   "execution_count": null,
   "metadata": {},
   "outputs": [],
   "source": []
  },
  {
   "cell_type": "code",
   "execution_count": null,
   "metadata": {},
   "outputs": [],
   "source": []
  }
 ],
 "metadata": {
  "kernelspec": {
   "display_name": "Python 3",
   "language": "python",
   "name": "python3"
  },
  "language_info": {
   "codemirror_mode": {
    "name": "ipython",
    "version": 3
   },
   "file_extension": ".py",
   "mimetype": "text/x-python",
   "name": "python",
   "nbconvert_exporter": "python",
   "pygments_lexer": "ipython3",
   "version": "3.7.6"
  }
 },
 "nbformat": 4,
 "nbformat_minor": 4
}
