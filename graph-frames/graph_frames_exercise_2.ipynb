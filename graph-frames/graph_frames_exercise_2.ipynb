{
 "cells": [
  {
   "cell_type": "markdown",
   "metadata": {},
   "source": [
    "## Exercise List 6\n",
    "\n",
    "### 1. Utilizing Apache Spark and other correlated tools, beyond the graph constructed in Exercise List 5, implement the following options:\n",
    "\n",
    "####   a. Determine the central node through the node degree.\n",
    "####   b. Determine the central node by centrality utilizing the Wasserman and harmonic distances.\n",
    "####   c. Determine the central node by intermediation."
   ]
  },
  {
   "cell_type": "code",
   "execution_count": 1,
   "metadata": {},
   "outputs": [],
   "source": [
    "from pyspark import SparkConf\n",
    "from pyspark.context import SparkContext\n",
    "from pyspark.sql.session import SparkSession\n",
    "from graphframes import *"
   ]
  },
  {
   "cell_type": "code",
   "execution_count": 2,
   "metadata": {},
   "outputs": [],
   "source": [
    "conf = SparkConf().setAppName('appName').setMaster('local')\n",
    "sc = SparkContext.getOrCreate(conf)\n",
    "spark = SparkSession(sc)\n",
    "vertexes = spark.read.csv('transport-nodes.csv', header=True)\n",
    "edges = spark.read.csv('transport-relationships.csv', header=True)\n",
    "graph = GraphFrame(vertexes, edges)"
   ]
  },
  {
   "cell_type": "markdown",
   "metadata": {},
   "source": [
    "#### a. Determine the central note through the node degree"
   ]
  },
  {
   "cell_type": "code",
   "execution_count": 41,
   "metadata": {},
   "outputs": [
    {
     "name": "stdout",
     "output_type": "stream",
     "text": [
      "The central node is Igarassu, with degree 4\n"
     ]
    }
   ],
   "source": [
    "# Determination the central node through the node degree\n",
    "graph_degree = graph.degrees\n",
    "city = dict(degree=0, city_id='')\n",
    "iter\n",
    "\n",
    "for row_value in graph_degree.select(\"id\", \"degree\").collect():\n",
    "    if int(row_value.degree) > city.get('degree'):\n",
    "        city['degree'] = row_value.degree\n",
    "        city['city_id'] = row_value.id\n",
    "print(f\"The central node is {city.get('city_id')}, with degree {city.get('degree')}\")"
   ]
  },
  {
   "cell_type": "markdown",
   "metadata": {},
   "source": [
    "#### b. Determine the central node by centrality utilizing the Wasserman and harmonic distances."
   ]
  },
  {
   "cell_type": "code",
   "execution_count": 40,
   "metadata": {},
   "outputs": [
    {
     "name": "stdout",
     "output_type": "stream",
     "text": [
      "The central node is, by harmonic distance: {'id': 'Ouricuri', 'vertex_distance': [('Arco Verde', '22'), ('Surubim', '32')], 'harmonic_score': 0.018518518518518517, 'wasserman_score': 0.018518518518518517}\n",
      "\n",
      "The central node is, by Wasserman distance: {'id': 'Salgueiro', 'vertex_distance': [('Igarassu', '26'), ('Exu', '25'), ('Serra Talhada', '33')], 'harmonic_score': 0.011904761904761904, 'wasserman_score': 0.023809523809523808}\n"
     ]
    }
   ],
   "source": [
    "# Determination of the central node through the harmonic and wasserman distances\n",
    "graph_vertexes = graph.vertices.select(\"id\").collect()\n",
    "graph_edges = graph.edges.select(\"src\", \"dst\", \"relationship\", \"cost\").collect()\n",
    "distances_list = list()\n",
    "vertex_list = list()\n",
    "\n",
    "for vertex in graph_vertexes:\n",
    "    \n",
    "    data = dict(id='', vertex_distance=list(), harmonic_score=0, wasserman_score=0)\n",
    "    distance = list()\n",
    "    id_cost_values = list()\n",
    "    if vertex.id not in distances_list:\n",
    "        data['id'] = vertex.id\n",
    "        vertex_list.append(vertex.id)\n",
    "    \n",
    "    for edge_value in graph_edges:\n",
    "        if (edge_value.src == vertex.id):\n",
    "            distance.append((edge_value.dst, edge_value.cost))\n",
    "            id_cost_values.append(edge_value.cost)\n",
    "        elif (edge_value.dst == vertex.id):\n",
    "            distance.append((edge_value.src, edge_value.cost))\n",
    "            id_cost_values.append(edge_value.cost)\n",
    "        else:\n",
    "            continue\n",
    "    cost_sum = sum(map(int, id_cost_values))\n",
    "    number_nodes = len(distance)\n",
    "    harmonic_score = 1 / cost_sum\n",
    "    wasserman_score = (number_nodes - 1) / cost_sum\n",
    "    data['harmonic_score'] = harmonic_score\n",
    "    data['wasserman_score'] = wasserman_score\n",
    "    data['vertex_distance'] = distance\n",
    "    distances_list.append(data)\n",
    "\n",
    "def harmonic_closeness(distances_list):\n",
    "    max_value = 0\n",
    "    for dist_list_value in distances_list:\n",
    "        if (dist_list_value['harmonic_score'] > max_value):\n",
    "            max_value = dist_list_value['harmonic_score']\n",
    "            central_node = dist_list_value\n",
    "    return central_node\n",
    "\n",
    "def wasserman_closeness(distances_list):\n",
    "    max_value = 0\n",
    "    for dist_list_value in distances_list:\n",
    "        if (dist_list_value['wasserman_score'] > max_value):\n",
    "            max_value = dist_list_value['wasserman_score']\n",
    "            central_node = dist_list_value\n",
    "    return central_node\n",
    "\n",
    "\n",
    "print(f\"The central node is, by harmonic distance: {harmonic_closeness(distances_list)}\\n\")\n",
    "print(f\"The central node is, by Wasserman distance: {wasserman_closeness(distances_list)}\")\n"
   ]
  },
  {
   "cell_type": "code",
   "execution_count": null,
   "metadata": {},
   "outputs": [],
   "source": []
  },
  {
   "cell_type": "code",
   "execution_count": null,
   "metadata": {},
   "outputs": [],
   "source": []
  },
  {
   "cell_type": "code",
   "execution_count": null,
   "metadata": {},
   "outputs": [],
   "source": []
  },
  {
   "cell_type": "code",
   "execution_count": null,
   "metadata": {},
   "outputs": [],
   "source": []
  }
 ],
 "metadata": {
  "kernelspec": {
   "display_name": "Python 3",
   "language": "python",
   "name": "python3"
  },
  "language_info": {
   "codemirror_mode": {
    "name": "ipython",
    "version": 3
   },
   "file_extension": ".py",
   "mimetype": "text/x-python",
   "name": "python",
   "nbconvert_exporter": "python",
   "pygments_lexer": "ipython3",
   "version": "3.7.6"
  }
 },
 "nbformat": 4,
 "nbformat_minor": 4
}
